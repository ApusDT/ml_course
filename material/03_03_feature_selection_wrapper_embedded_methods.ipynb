{
 "cells": [
  {
   "cell_type": "markdown",
   "metadata": {},
   "source": [
    "<!--NAVIGATION-->\n",
    "\n",
    "_______________\n",
    "Este documento puede ser utilizado de forma interactiva en las siguientes plataformas: \n",
    "\n",
    "- [Google Colab](https://colab.research.google.com/github/masdeseiscaracteres/ml_course/blob/master/material/03_03_feature_selection_wrapper_embedded_methods.ipynb)\n",
    "- [MyBinder](https://mybinder.org/v2/gh/masdeseiscaracteres/ml_course/master)\n",
    "- [Deepnote](https://deepnote.com/launch?template=python_3.6&url=https%3A%2F%2Fgithub.com%2Fmasdeseiscaracteres%2Fml_course%2Fblob%2Fmaster%2Fmaterial%2F03_03_feature_selection_wrapper_embedded_methods.ipynb)\n",
    "\n",
    "\n",
    "_______________"
   ]
  },
  {
   "cell_type": "markdown",
   "metadata": {},
   "source": [
    "# Métodos Wrapper y Embedded\n",
    "\n",
    "En este notebook se revisarán los conceptos de:\n",
    "\n",
    "1. Métodos *wrapper* para selección de características\n",
    "2. Métodos *embedded* para selección de características\n",
    "\n",
    "Primero cargamos librerías y funciones necesarias.\n"
   ]
  },
  {
   "cell_type": "markdown",
   "metadata": {},
   "source": [
    "## 0. Configuración del entorno"
   ]
  },
  {
   "cell_type": "code",
   "execution_count": 1,
   "metadata": {},
   "outputs": [],
   "source": [
    "# clonar el resto del repositorio si no está disponible\n",
    "import os\n",
    "curr_dir = os.getcwd()\n",
    "if not os.path.exists(os.path.join(curr_dir, '../.ROOT_DIR')):\n",
    "    !git clone https://github.com/masdeseiscaracteres/ml_course.git ml_course\n",
    "    os.chdir(os.path.join(curr_dir, 'ml_course/material'))"
   ]
  },
  {
   "cell_type": "code",
   "execution_count": 2,
   "metadata": {},
   "outputs": [],
   "source": [
    "import numpy as np\n",
    "import pandas as pd\n",
    "\n",
    "import matplotlib.pyplot as plt\n",
    "from matplotlib.colors import ListedColormap\n",
    "%matplotlib inline\n",
    "\n",
    "cm = plt.cm.RdBu\n",
    "cm_bright = ListedColormap(['#FF0000', '#0000FF'])\n",
    "\n",
    "import warnings\n",
    "warnings.filterwarnings('ignore')"
   ]
  },
  {
   "cell_type": "markdown",
   "metadata": {},
   "source": [
    "# 1. Métodos *wrapper*\n",
    "\n",
    "Estos métodos utilizan un algoritmo de machine learning como caja negra para ordenar distintos subconjuntos de variables de acuerdo a su capacidad predictiva. Normalmente se usan procedimientos \"hacia delante/atrás\" en combinación con validación cruzada.\n",
    "\n",
    "### *The wrong and right way to do cross-validation*\n",
    "\n",
    "Este ejemplo ha sido inspirado en la Sección 7.10.2 *The Wrong and Right Way to Do Cross-validation* del libro\n",
    "\"*The Elements of Statistical Learning*\" de Hastie, Tibshirani y Friedman."
   ]
  },
  {
   "cell_type": "code",
   "execution_count": 3,
   "metadata": {},
   "outputs": [
    {
     "name": "stdout",
     "output_type": "stream",
     "text": [
      "Average error rate (%): 3.5719999999999974\n"
     ]
    },
    {
     "data": {
      "image/png": "[encoded data removed]",
      "text/plain": [
       "<Figure size 432x288 with 1 Axes>"
      ]
     },
     "metadata": {
      "needs_background": "light"
     },
     "output_type": "display_data"
    }
   ],
   "source": [
    "from sklearn.neighbors import KNeighborsClassifier\n",
    "from sklearn.model_selection import KFold\n",
    "from sklearn.feature_selection import f_classif\n",
    "\n",
    "\n",
    "# This is the WRONG way\n",
    "\n",
    "np.random.seed(0)\n",
    "score = []\n",
    "\n",
    "for i in range(500): # This is run for a number of experiments. Montecarlo simulation\n",
    "    \n",
    "    # Create toy example\n",
    "    N = 50\n",
    "    y = np.concatenate([-1*np.ones(int(N/2)), np.ones(int(N/2))]) # target\n",
    "    X = np.random.randn(N, 5000)                       # predictors are random variables!!\n",
    "    \n",
    "    \n",
    "    # Note here, the ranking and selection is performed outside the CV loop\n",
    "    f_test, _ = f_classif(X, y)\n",
    "    f_test /= np.max(f_test)\n",
    "    \n",
    "    ranking = np.argsort(f_test)[::-1] \n",
    "    selected = ranking[0:50]\n",
    "    Xs = X[:, selected]\n",
    "    \n",
    "    # 1-neighbor classifier\n",
    "    knn = KNeighborsClassifier(n_neighbors=1)\n",
    "    \n",
    "    # 5-fold CV\n",
    "    kf  = KFold(n_splits=5, shuffle = True)\n",
    "    score_i = []\n",
    "    \n",
    "    for train_idx, val_idx in kf.split(Xs):\n",
    "        knn.fit(Xs[train_idx,:], y[train_idx])\n",
    "        accuracy = knn.score(Xs[val_idx,:], y[val_idx])\n",
    "        score_i.append(accuracy) \n",
    "    \n",
    "    score.append(np.mean(score_i))\n",
    "\n",
    "print(\"Average error rate (%): \" + str((1 - np.mean(score))*100))\n",
    "\n",
    "plt.hist(score)\n",
    "plt.show()"
   ]
  },
  {
   "cell_type": "markdown",
   "metadata": {},
   "source": [
    "En una situación como esta, en la que las features no tienen ningún tipo de relación con la variable objetivo, esperamos un error de clasificación medio del 50%. Sin embargo, hemos obtenido un error de clasificación medio del 3.5%. Esto es un indicador claro de que hemos realizado mal el experimento. Pero, ¿por qué ocurre esto?\n",
    "- Como solo tenemos 50 ejemplos y un total de 5000 variables, es normal que alguna de las variables esté muy correlada con la variable objetivo.\n",
    "- Estamos haciendo la selección de variables con la totalidad de los datos, por tanto, las variables que seleccionamos tienen alguna relación con la variable objetivo en cualquiera de los folds de la validación cruzada.\n",
    "\n",
    "Para hacer la evaluación correctamente deben utilizarse solamente las muestras en el conjunto de entrenamiento como se muestra a continuación:"
   ]
  },
  {
   "cell_type": "code",
   "execution_count": 4,
   "metadata": {},
   "outputs": [
    {
     "name": "stdout",
     "output_type": "stream",
     "text": [
      "Error rate (%): 52.664\n"
     ]
    },
    {
     "data": {
      "image/png": "[encoded data removed]",
      "text/plain": [
       "<Figure size 432x288 with 1 Axes>"
      ]
     },
     "metadata": {
      "needs_background": "light"
     },
     "output_type": "display_data"
    }
   ],
   "source": [
    "# This is the RIGHT way\n",
    "\n",
    "np.random.seed(0)\n",
    "score = []\n",
    "\n",
    "for i in range(500): # This runs for a number of experiments. Montecarlo simulation\n",
    "    \n",
    "    # Create toy example\n",
    "    N = 50\n",
    "    y = np.concatenate([-1*np.ones(int(N/2)), np.ones(int(N/2))]) # target\n",
    "    X = np.random.randn(N, 5000)                       # predictors, again random variables\n",
    "    \n",
    "    # 1-neighbor classifier\n",
    "    knn = KNeighborsClassifier(n_neighbors=1)\n",
    "    \n",
    "    # 5-fold CV\n",
    "    kf  = KFold(n_splits=5, shuffle = True)\n",
    "    score_i = []\n",
    "    \n",
    "    for train_idx, val_idx in kf.split(Xs):\n",
    "        \n",
    "        # Note here, the ranking and selection is performed inside the CV loop\n",
    "        f_test, _ = f_classif(X[train_idx,:], y[train_idx])\n",
    "        f_test /= np.max(f_test)\n",
    "        ranking = np.argsort(f_test)[::-1] \n",
    "        selected = ranking[0:50]\n",
    "        \n",
    "        Xs = X[:, selected]\n",
    "           \n",
    "        knn.fit(Xs[train_idx,:], y[train_idx])\n",
    "        accuracy = knn.score(Xs[val_idx,:], y[val_idx])\n",
    "        \n",
    "        score_i.append(accuracy) \n",
    "    \n",
    "    score.append(np.mean(score_i))\n",
    "\n",
    "print(\"Error rate (%): \" + str((1 - np.mean(score))*100))\n",
    "\n",
    "plt.hist(score)\n",
    "plt.show()"
   ]
  },
  {
   "cell_type": "markdown",
   "metadata": {},
   "source": [
    "En este caso sí que obtenemos una probabilidad cercana al 50%. Por tanto, estamos realizando correctamente la selección de variables.\n",
    "\n",
    "Este es el procedimiento general que se debe seguir cuando se implementa validación cruzada con métodos wrapper. Además puedes apoyarte en algunas funciones ya implementadas en `sklearn` para hacer la tarea más fácil:\n",
    "- [`sklearn.feature_selection.SelectFromModel`](https://scikit-learn.org/stable/modules/generated/sklearn.feature_selection.SelectFromModel.html#sklearn.feature_selection.SelectFromModel)\n",
    "- [`sklearn.feature_selection.RFE`](https://scikit-learn.org/stable/modules/generated/sklearn.feature_selection.RFE.html#sklearn.feature_selection.RFE)\n",
    "\n"
   ]
  },
  {
   "cell_type": "markdown",
   "metadata": {},
   "source": [
    "# 2. Métodos *embedded*\n",
    "\n",
    "Vamos a trabajar directamente sobre la base de datos  de viviendas [House Sales in King County, USA](https://www.kaggle.com/harlfoxem/housesalesprediction), así que lo primero es cargar los datos:"
   ]
  },
  {
   "cell_type": "code",
   "execution_count": 5,
   "metadata": {},
   "outputs": [
    {
     "data": {
      "text/plain": [
       "      price  bedrooms  bathrooms  sqm_living     sqm_lot  floors  waterfront  \\\n",
       "0  221900.0         3       1.00  109.625587  524.902176     1.0           0   \n",
       "1  538000.0         3       2.25  238.760813  672.803816     2.0           0   \n",
       "2  180000.0         2       1.00   71.535341  929.030400     1.0           0   \n",
       "3  604000.0         4       3.00  182.089958  464.515200     1.0           0   \n",
       "4  510000.0         3       2.00  156.077107  750.656563     1.0           0   \n",
       "\n",
       "   view  condition  grade  sqm_basement  yr_renovated  zip_code      lat  \\\n",
       "0     0          3      7      0.000000             0     98178  47.5112   \n",
       "1     0          3      7     37.161216          1991     98125  47.7210   \n",
       "2     0          3      6      0.000000             0     98028  47.7379   \n",
       "3     0          5      7     84.541766             0     98136  47.5208   \n",
       "4     0          3      8      0.000000             0     98074  47.6168   \n",
       "\n",
       "      long  sqm_living15   sqm_lot15  years  bed_bath_rooms  \n",
       "0 -122.257    124.490074  524.902176     64            3.00  \n",
       "1 -122.319    157.006138  709.686323     68            6.75  \n",
       "2 -122.233    252.696269  748.984308     86            2.00  \n",
       "3 -122.393    126.348134  464.515200     54           12.00  \n",
       "4 -122.045    167.225472  697.051509     32            6.00  "
      ]
     },
     "execution_count": 5,
     "metadata": {},
     "output_type": "execute_result"
    }
   ],
   "source": [
    "# cargamos datos\n",
    "house_data = pd.read_csv(\"./data/kc_house_data.csv\") # cargamos fichero\n",
    "\n",
    "# Eliminamos las columnas id y date \n",
    "house_data = house_data.drop(['id','date'], axis=1)\n",
    "\n",
    "# convertir las variables en pies al cuadrado en metros al cuadrado \n",
    "feetFeatures = ['sqft_living','sqft_lot','sqft_above','sqft_basement','sqft_living15','sqft_lot15']\n",
    "house_data[feetFeatures] = house_data[feetFeatures].apply(lambda x: x * 0.3048 * 0.3048)\n",
    "\n",
    "# renombramos\n",
    "house_data.columns = ['price','bedrooms','bathrooms','sqm_living','sqm_lot','floors','waterfront','view','condition',\n",
    "                      'grade','sqm_above','sqm_basement','yr_built','yr_renovated','zip_code','lat','long',\n",
    "                      'sqm_living15','sqm_lot15']\n",
    "\n",
    "# añadimos las nuevas variables\n",
    "house_data['years'] = 2019 - house_data['yr_built']\n",
    "house_data = house_data.drop(['yr_built','sqm_above'], axis=1)\n",
    "house_data = house_data[house_data.sqm_living <= 600]\n",
    "\n",
    "\n",
    "#house_data['bedrooms_squared'] = house_data['bedrooms'].apply(lambda x: x**2)\n",
    "house_data['bed_bath_rooms']   = house_data['bedrooms']*house_data['bathrooms']\n",
    "#house_data['log_sqm_living']   = house_data['sqm_living'].apply(lambda x: np.log(x))\n",
    "#house_data['lat_plus_long']    = house_data['lat']*house_data['long']\n",
    "\n",
    "house_data.head()"
   ]
  },
  {
   "cell_type": "code",
   "execution_count": 6,
   "metadata": {},
   "outputs": [
    {
     "data": {
      "image/png": "[encoded data removed]",
      "text/plain": [
       "<Figure size 432x288 with 1 Axes>"
      ]
     },
     "metadata": {
      "needs_background": "light"
     },
     "output_type": "display_data"
    },
    {
     "data": {
      "image/png": "[encoded data removed]",
      "text/plain": [
       "<Figure size 432x288 with 1 Axes>"
      ]
     },
     "metadata": {
      "needs_background": "light"
     },
     "output_type": "display_data"
    }
   ],
   "source": [
    "plt.hist(np.log10(house_data.price), bins=30)\n",
    "plt.show()\n",
    "\n",
    "plt.scatter(house_data.sqm_living, np.log10(house_data.price), alpha=0.1)\n",
    "plt.show()"
   ]
  },
  {
   "cell_type": "code",
   "execution_count": 7,
   "metadata": {},
   "outputs": [
    {
     "data": {
      "text/plain": [
       "                  count           mean            std           min  \\\n",
       "price           21568.0  534959.642433  341357.402350  75000.000000   \n",
       "bedrooms        21568.0       3.367350       0.926683      0.000000   \n",
       "bathrooms       21568.0       2.108436       0.756119      0.000000   \n",
       "sqm_living      21568.0     192.148022      81.843245     26.941882   \n",
       "sqm_lot         21568.0    1389.661587    3791.006065     48.309581   \n",
       "floors          21568.0       1.493231       0.539595      1.000000   \n",
       "waterfront      21568.0       0.007233       0.084741      0.000000   \n",
       "view            21568.0       0.230759       0.758944      0.000000   \n",
       "condition       21568.0       3.409774       0.651011      1.000000   \n",
       "grade           21568.0       7.648322       1.160938      1.000000   \n",
       "sqm_basement    21568.0      26.802471      40.402986      0.000000   \n",
       "yr_renovated    21568.0      84.022302     400.811921      0.000000   \n",
       "zip_code        21568.0   98077.991098      53.496889  98001.000000   \n",
       "lat             21568.0      47.559964       0.138644     47.155900   \n",
       "long            21568.0    -122.214027       0.140784   -122.519000   \n",
       "sqm_living15    21568.0     184.202744      63.099866     37.068313   \n",
       "sqm_lot15       21568.0    1176.613082    2465.086786     60.479879   \n",
       "years           21568.0      48.030786      29.367176      4.000000   \n",
       "bed_bath_rooms  21568.0       7.458411       4.117985      0.000000   \n",
       "\n",
       "                          25%            50%            75%           max  \n",
       "price           321000.000000  450000.000000  641000.000000  4.489000e+06  \n",
       "bedrooms             3.000000       3.000000       4.000000  3.300000e+01  \n",
       "bathrooms            1.500000       2.250000       2.500000  7.500000e+00  \n",
       "sqm_living         131.922317     177.444806     235.973722  5.973665e+02  \n",
       "sqm_lot            468.231322     706.620522     988.256088  1.534163e+05  \n",
       "floors               1.000000       1.500000       2.000000  3.500000e+00  \n",
       "waterfront           0.000000       0.000000       0.000000  1.000000e+00  \n",
       "view                 0.000000       0.000000       0.000000  4.000000e+00  \n",
       "condition            3.000000       3.000000       4.000000  5.000000e+00  \n",
       "grade                7.000000       7.000000       8.000000  1.300000e+01  \n",
       "sqm_basement         0.000000       0.000000      52.025702  2.647737e+02  \n",
       "yr_renovated         0.000000       0.000000       0.000000  2.015000e+03  \n",
       "zip_code         98033.000000   98065.000000   98118.000000  9.819900e+04  \n",
       "lat                 47.470575      47.571700      47.678025  4.777760e+01  \n",
       "long              -122.328000    -122.231000    -122.125000 -1.213150e+02  \n",
       "sqm_living15       138.425530     170.941594     219.251174  5.379086e+02  \n",
       "sqm_lot15          473.805504     707.921165     935.998128  8.093713e+04  \n",
       "years               22.000000      44.000000      68.000000  1.190000e+02  \n",
       "bed_bath_rooms       4.500000       7.000000      10.000000  6.750000e+01  "
      ]
     },
     "execution_count": 7,
     "metadata": {},
     "output_type": "execute_result"
    }
   ],
   "source": [
    "house_data.describe().T"
   ]
  },
  {
   "cell_type": "code",
   "execution_count": 8,
   "metadata": {},
   "outputs": [],
   "source": [
    "# convertimos el DataFrame al formato necesario para scikit-learn\n",
    "data = house_data.values.copy()\n",
    "\n",
    "#y = data[:, 0]     # nos quedamos con la 1ª columna, price\n",
    "y = np.log10(data[:, 0])     # nos quedamos con la 1ª columna, log-price\n",
    "X = data[:, 1:]      # nos quedamos con el resto\n",
    "\n",
    "feature_names = house_data.columns[1:]"
   ]
  },
  {
   "cell_type": "code",
   "execution_count": 9,
   "metadata": {},
   "outputs": [
    {
     "name": "stdout",
     "output_type": "stream",
     "text": [
      "Datos entrenamiento:  (16176, 18)\n",
      "Datos test:  (5392, 18)\n"
     ]
    }
   ],
   "source": [
    "from sklearn import preprocessing\n",
    "from sklearn.model_selection import train_test_split\n",
    "\n",
    "# Escalar todos los datos en este punto es INCORRECTO!! \n",
    "# X_mal = preprocessing.StandardScaler().fit_transform(X)\n",
    "\n",
    "# Dividimos los datos en entrenamiento y test (75% training, 25% test)\n",
    "X_train, X_test, y_train, y_test = train_test_split(X, y, test_size=.25, random_state = 2)\n",
    "\n",
    "print('Datos entrenamiento: ', X_train.shape)\n",
    "print('Datos test: ', X_test.shape)\n",
    "\n",
    "# Escalamos (obtenemos la transformación con los datos de train y la aplicamos a train y a test)\n",
    "scaler = preprocessing.StandardScaler().fit(X_train)\n",
    "X_train_scaled = scaler.transform(X_train)\n",
    "X_test_scaled = scaler.transform(X_test)"
   ]
  },
  {
   "cell_type": "code",
   "execution_count": 10,
   "metadata": {},
   "outputs": [
    {
     "data": {
      "image/png": "[encoded data removed]",
      "text/plain": [
       "<Figure size 432x288 with 1 Axes>"
      ]
     },
     "metadata": {
      "needs_background": "light"
     },
     "output_type": "display_data"
    }
   ],
   "source": [
    "plt.hist(X_train_scaled[:,2], range = [-3, 3], bins=30)\n",
    "plt.show()"
   ]
  },
  {
   "cell_type": "markdown",
   "metadata": {},
   "source": [
    "En este caso, utilizamos la capacidad de LASSO para seleccionar variables. Recordemos que, para que los coeficientes de LASSO reflejen adecuadamente la importancia real de las variables, estas tiene que haber sido normalizadas con anterioridad."
   ]
  },
  {
   "cell_type": "code",
   "execution_count": 11,
   "metadata": {},
   "outputs": [
    {
     "name": "stdout",
     "output_type": "stream",
     "text": [
      "best mean cross-validation score: -0.012\n",
      "best parameters: {'alpha': 3.856620421163472e-05}\n"
     ]
    },
    {
     "data": {
      "image/png": "[encoded data removed]",
      "text/plain": [
       "<Figure size 432x288 with 1 Axes>"
      ]
     },
     "metadata": {
      "needs_background": "light"
     },
     "output_type": "display_data"
    }
   ],
   "source": [
    "from sklearn.model_selection import GridSearchCV\n",
    "from sklearn.linear_model import Lasso\n",
    "\n",
    "K = 5 # número de folds\n",
    "\n",
    "# Rango de búsqueda del parámetro de regularización (mejor en escala logarítmica)\n",
    "# primera iteración\n",
    "# alpha_vector = np.logspace(-7, 10, 50)\n",
    "# segunda iteración (zoom)\n",
    "# alpha_vector = np.logspace(-7, -2, 20)\n",
    "# tercera iteración (zoom)\n",
    "alpha_vector = np.logspace(-7, -4, 30)\n",
    "\n",
    "param_grid = {'alpha': alpha_vector}\n",
    "grid = GridSearchCV(Lasso(), scoring= 'neg_mean_squared_error', param_grid=param_grid, cv = K)\n",
    "grid.fit(X_train_scaled, y_train)\n",
    "print(\"best mean cross-validation score: {:.3f}\".format(grid.best_score_))\n",
    "print(\"best parameters: {}\".format(grid.best_params_))\n",
    "\n",
    "scores = -1*np.array(grid.cv_results_['mean_test_score'])\n",
    "plt.semilogx(alpha_vector, scores,'-o')\n",
    "plt.xlabel('alpha', fontsize=16)\n",
    "plt.ylabel('{}-Fold MSE'.format(K))\n",
    "#plt.ylim((-1, 0))\n",
    "plt.show()"
   ]
  },
  {
   "cell_type": "code",
   "execution_count": 12,
   "metadata": {},
   "outputs": [
    {
     "name": "stdout",
     "output_type": "stream",
     "text": [
      "alpha: 3.86e-05\n",
      "MSE Modelo Lasso (train): 0.012\n",
      "MSE Modelo Lasso (test) : 0.0116\n",
      "RMSE Modelo Lasso (train): 0.11\n",
      "RMSE Modelo Lasso (test) : 0.108\n",
      "bedrooms: -0.000963564696302832\n",
      "bathrooms: 0.029626807946157924\n",
      "sqm_living: 0.05805031473146197\n",
      "sqm_lot: 0.0078085189780189804\n",
      "floors: 0.01720128096115008\n",
      "waterfront: 0.013303691381806487\n",
      "view: 0.02061628415148574\n",
      "condition: 0.01735189156948818\n",
      "grade: 0.07800590327151843\n",
      "sqm_basement: 0.0022569488941406235\n",
      "yr_renovated: 0.006404272226372331\n",
      "zip_code: -0.014766125853516323\n",
      "lat: 0.08396147348986463\n",
      "long: -0.010226765867101759\n",
      "sqm_living15: 0.027522168401515983\n",
      "sqm_lot15: -0.0019638101498149056\n",
      "years: 0.04379627617319116\n",
      "bed_bath_rooms: -0.010902114793609134\n"
     ]
    }
   ],
   "source": [
    "from sklearn.metrics import mean_squared_error \n",
    "\n",
    "alpha_optimo = grid.best_params_['alpha']\n",
    "\n",
    "lasso = Lasso(alpha = alpha_optimo).fit(X_train_scaled, y_train)\n",
    "\n",
    "ytrainLasso = lasso.predict(X_train_scaled)\n",
    "ytestLasso  = lasso.predict(X_test_scaled)\n",
    "mseTrainModelLasso = mean_squared_error(y_train, ytrainLasso)\n",
    "mseTestModelLasso = mean_squared_error(y_test, ytestLasso)\n",
    "\n",
    "print('alpha: %0.3g' % alpha_optimo)\n",
    "\n",
    "print('MSE Modelo Lasso (train): %0.3g' % mseTrainModelLasso)\n",
    "print('MSE Modelo Lasso (test) : %0.3g' % mseTestModelLasso)\n",
    "\n",
    "print('RMSE Modelo Lasso (train): %0.3g' % np.sqrt(mseTrainModelLasso))\n",
    "print('RMSE Modelo Lasso (test) : %0.3g' % np.sqrt(mseTestModelLasso))\n",
    "\n",
    "w = lasso.coef_\n",
    "for f, wi in zip(feature_names, w):\n",
    "    print(\"{}: {}\".format(f, wi))"
   ]
  },
  {
   "cell_type": "markdown",
   "metadata": {},
   "source": [
    "Como puede apreciarse, aparecen algunas incoherencias con respecto al valor esperado de los coeficientes, como por ejemplo el asociado a la variable `bedrooms` que tiene valor negativo. No tiene sentido que el precio de la vivienda disminuya si aumenta el número de habitaciones.\n",
    "\n",
    "Vamos a aumentar el parámetro de regularización y observar los resultados obtenidos:"
   ]
  },
  {
   "cell_type": "code",
   "execution_count": 13,
   "metadata": {},
   "outputs": [
    {
     "name": "stdout",
     "output_type": "stream",
     "text": [
      "alpha: 0.01\n",
      "MSE Modelo Lasso (train): 0.013\n",
      "MSE Modelo Lasso (test) : 0.0126\n",
      "RMSE Modelo Lasso (train): 0.114\n",
      "RMSE Modelo Lasso (test) : 0.112\n",
      "bedrooms: 0.0\n",
      "bathrooms: 0.011077110559891015\n",
      "sqm_living: 0.06381332434681627\n",
      "sqm_lot: 0.0\n",
      "floors: 0.0009238614833627659\n",
      "waterfront: 0.006818684134718069\n",
      "view: 0.018781382429581116\n",
      "condition: 0.009131466384560418\n",
      "grade: 0.07572023663115744\n",
      "sqm_basement: 0.0\n",
      "yr_renovated: 0.0015884059734067096\n",
      "zip_code: -0.0\n",
      "lat: 0.075622233334306\n",
      "long: -0.0\n",
      "sqm_living15: 0.019104233003169397\n",
      "sqm_lot15: 0.0\n",
      "years: 0.023236472378938288\n",
      "bed_bath_rooms: 0.0\n"
     ]
    }
   ],
   "source": [
    "alpha_optimo = 1e-2\n",
    "lasso = Lasso(alpha = alpha_optimo).fit(X_train_scaled, y_train)\n",
    "\n",
    "ytrainLasso = lasso.predict(X_train_scaled)\n",
    "ytestLasso  = lasso.predict(X_test_scaled)\n",
    "mseTrainModelLasso = mean_squared_error(y_train, ytrainLasso)\n",
    "mseTestModelLasso = mean_squared_error(y_test, ytestLasso)\n",
    "\n",
    "print('alpha: %0.3g' % alpha_optimo)\n",
    "\n",
    "print('MSE Modelo Lasso (train): %0.3g' % mseTrainModelLasso)\n",
    "print('MSE Modelo Lasso (test) : %0.3g' % mseTestModelLasso)\n",
    "\n",
    "print('RMSE Modelo Lasso (train): %0.3g' % np.sqrt(mseTrainModelLasso))\n",
    "print('RMSE Modelo Lasso (test) : %0.3g' % np.sqrt(mseTestModelLasso))\n",
    "\n",
    "w = lasso.coef_\n",
    "for f, wi in zip(feature_names, w):\n",
    "    print(\"{}: {}\".format(f, wi))"
   ]
  },
  {
   "cell_type": "markdown",
   "metadata": {},
   "source": [
    "Hemos aumentado el error ligeramente, pero a cambio:\n",
    "\n",
    "1. Tenemos un modelo más sencillo (menos variables al haber muchos coeficientes nulos) y, por tanto, menos susceptible a sufrir *overfitting*.\n",
    "2. Mejoramos la interpretabilidad del modelo: las variables supervivientes (con coeficientes distintos de cero) parecen concordar con nuestra intuición sobre el problema a resolver.\n",
    "\n",
    "Y una vez llegados a este punto, ¿qué podemos hacer? El error de entrenamiento/validación y test es similar, pero todavía es muy alto, así que: \n",
    "\n",
    "1. Se podrían definir nuevas variables que nos ayuden a mejorar el error de predicción.\n",
    "2. Jugar con el parámetro de regularización, para mantener el compromiso entre sencillez/interpretabilidad del modelo y error de predicción.\n",
    "3. Utilizar un modelo un modelo más expresivo, pero no debemos olvidar que debemos seguir controlando el sobreajuste.\n",
    "\n"
   ]
  }
 ],
 "metadata": {
  "kernelspec": {
   "display_name": "Python 3",
   "language": "python",
   "name": "python3"
  },
  "language_info": {
   "codemirror_mode": {
    "name": "ipython",
    "version": 3
   },
   "file_extension": ".py",
   "mimetype": "text/x-python",
   "name": "python",
   "nbconvert_exporter": "python",
   "pygments_lexer": "ipython3",
   "version": "3.7.4"
  }
 },
 "nbformat": 4,
 "nbformat_minor": 2
}
